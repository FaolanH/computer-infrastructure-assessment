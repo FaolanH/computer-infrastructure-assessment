{
 "cells": [
  {
   "cell_type": "markdown",
   "id": "bddef7cc",
   "metadata": {},
   "source": [
    "# Computer Infrastructure Assignment 2025 \n",
    "\n",
    "### Submission by Faolán H\n",
    "-----"
   ]
  },
  {
   "cell_type": "code",
   "execution_count": null,
   "id": "16cab4a7",
   "metadata": {},
   "outputs": [],
   "source": [
    "# Modules used throughout the assignment\n",
    "import numpy as np\n",
    "\n",
    "# Yahoo Finance API data\n",
    "import yfinance as yf"
   ]
  },
  {
   "cell_type": "markdown",
   "id": "b875778f",
   "metadata": {},
   "source": [
    "-----"
   ]
  },
  {
   "cell_type": "markdown",
   "id": "1d01a51a",
   "metadata": {},
   "source": [
    "## There are four problems in this assignment structured throughout this Jupyter Notebook as follows:\n",
    "### - Name the Problem\n",
    "### - Describe the Problem\n",
    "### - Solve the Problem\n",
    "----------"
   ]
  },
  {
   "cell_type": "markdown",
   "id": "923ec540",
   "metadata": {},
   "source": [
    "## Problem 1: Data from yfinance"
   ]
  },
  {
   "cell_type": "markdown",
   "id": "080d98d1",
   "metadata": {},
   "source": [
    "##### Using the yfinance Python package, write a function called get_data() that downloads all hourly data for the previous five days for the five FAANG stocks:\n",
    "\n",
    "- Facebook (META)\n",
    "- Apple (AAPL)\n",
    "- Amazon (AMZN)\n",
    "- Netflix (NFLX)\n",
    "- Google (GOOG)\n",
    "##### The function should save the data into a folder called data in the root of your repository using a filename with the format YYYYMMDD-HHmmss.csv where YYYYMMDD is the four-digit year (e.g. 2025), followed by the two-digit month (e.g. 09 for September), followed by the two digit day, and HHmmss is hour, minutes, seconds. Create the data folder if you don't already have one."
   ]
  },
  {
   "cell_type": "markdown",
   "id": "f8a1c1c2",
   "metadata": {},
   "source": [
    "# yfinance documentation\n",
    "https://ranaroussi.github.io/yfinance/reference/api/yfinance.download.html"
   ]
  },
  {
   "cell_type": "code",
   "execution_count": null,
   "id": "6ba155fa",
   "metadata": {},
   "outputs": [],
   "source": [
    "# yfinance test\n",
    "data = yf.Ticker(\"MSFT\")\n",
    "data.info"
   ]
  },
  {
   "cell_type": "code",
   "execution_count": null,
   "id": "8aa2a7c6",
   "metadata": {},
   "outputs": [],
   "source": [
    "tickers = yf.Tickers('MSFT AAPL GOOG')"
   ]
  },
  {
   "cell_type": "code",
   "execution_count": null,
   "id": "7dd361b9",
   "metadata": {},
   "outputs": [],
   "source": [
    "df = yf.download ('META AAPL AMZN NFLX GOOG', period = '5d', interval = '60m')"
   ]
  },
  {
   "cell_type": "code",
   "execution_count": null,
   "id": "646f51c5",
   "metadata": {},
   "outputs": [],
   "source": [
    "df"
   ]
  },
  {
   "cell_type": "code",
   "execution_count": null,
   "id": "11a884b6",
   "metadata": {},
   "outputs": [],
   "source": [
    "df.index"
   ]
  },
  {
   "cell_type": "markdown",
   "id": "d531fd87",
   "metadata": {},
   "source": [
    "-----\n",
    "## Problem 2: Plotting the data\n",
    "\n",
    "##### Write a function called plot_data() that opens the latest data file in the data folder and, on one plot, plots the Close prices for each of the five stocks. The plot should include axis labels, a legend, and the date as a title. The function should save the plot into a plots folder in the root of your repository using a filename in the format YYYYMMDD-HHmmss.png. Create the plots folder if you don't already have one."
   ]
  },
  {
   "cell_type": "markdown",
   "id": "dd9baaca",
   "metadata": {},
   "source": []
  },
  {
   "cell_type": "markdown",
   "id": "6f3ff664",
   "metadata": {},
   "source": [
    "-----\n",
    "## Problem 3: Script\n",
    "##### Create a Python script called faang.py in the root of your repository. Copy the above functions into it and it so that whenever someone at the terminal types ./faang.py, the script runs, downloading the data and creating the plot. Note that this will require a shebang line and the script to be marked executable. Explain the steps you took in your notebook."
   ]
  },
  {
   "cell_type": "markdown",
   "id": "b34a549c",
   "metadata": {},
   "source": [
    "-----\n",
    "## Problem 4: Automation\n",
    "##### Create a GitHub Actions workflow to run your script every Saturday morning. The script should be called faang.yml in a .github/workflows/ folder in the root of your repository. In your notebook, explain each of the individual lines in your workflow."
   ]
  },
  {
   "cell_type": "markdown",
   "id": "46509cd2",
   "metadata": {},
   "source": [
    "-----\n",
    "# END\n",
    "-----"
   ]
  }
 ],
 "metadata": {
  "kernelspec": {
   "display_name": "Python 3",
   "language": "python",
   "name": "python3"
  },
  "language_info": {
   "codemirror_mode": {
    "name": "ipython",
    "version": 3
   },
   "file_extension": ".py",
   "mimetype": "text/x-python",
   "name": "python",
   "nbconvert_exporter": "python",
   "pygments_lexer": "ipython3",
   "version": "3.12.1"
  }
 },
 "nbformat": 4,
 "nbformat_minor": 5
}
