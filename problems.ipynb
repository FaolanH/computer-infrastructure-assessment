{
 "cells": [
  {
   "cell_type": "markdown",
   "id": "bddef7cc",
   "metadata": {},
   "source": [
    "# Computer Infrastructure Assignment 2025 \n",
    "\n",
    "### Submission by Faolán H"
   ]
  },
  {
   "cell_type": "markdown",
   "id": "2602513d",
   "metadata": {},
   "source": []
  },
  {
   "cell_type": "code",
   "execution_count": 2,
   "id": "16cab4a7",
   "metadata": {},
   "outputs": [],
   "source": [
    "# Modules used throughout the assignment\n",
    "import numpy as np"
   ]
  },
  {
   "cell_type": "code",
   "execution_count": null,
   "id": "923ec540",
   "metadata": {},
   "outputs": [],
   "source": []
  },
  {
   "cell_type": "markdown",
   "id": "8977bcb2",
   "metadata": {},
   "source": []
  },
  {
   "cell_type": "markdown",
   "id": "46509cd2",
   "metadata": {},
   "source": [
    "# END"
   ]
  },
  {
   "cell_type": "markdown",
   "id": "d4165992",
   "metadata": {},
   "source": []
  }
 ],
 "metadata": {
  "kernelspec": {
   "display_name": "Python 3",
   "language": "python",
   "name": "python3"
  },
  "language_info": {
   "codemirror_mode": {
    "name": "ipython",
    "version": 3
   },
   "file_extension": ".py",
   "mimetype": "text/x-python",
   "name": "python",
   "nbconvert_exporter": "python",
   "pygments_lexer": "ipython3",
   "version": "3.12.1"
  }
 },
 "nbformat": 4,
 "nbformat_minor": 5
}
