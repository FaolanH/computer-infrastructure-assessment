{
 "cells": [
  {
   "cell_type": "markdown",
   "id": "bddef7cc",
   "metadata": {},
   "source": [
    "# Computer Infrastructure Assignment 2025 \n",
    "\n",
    "### Submission by Faolán H\n",
    "-----"
   ]
  },
  {
   "cell_type": "code",
   "execution_count": 1,
   "id": "16cab4a7",
   "metadata": {},
   "outputs": [],
   "source": [
    "# Modules used throughout the assignment - import standard python modules first\n",
    "\n",
    "#datetime\n",
    "#https://docs.python.org/3/library/datetime.html\n",
    "import datetime as dt\n",
    "\n",
    "#numpy\n",
    "import numpy as np\n",
    "\n",
    "# pandas\n",
    "import pandas as pd\n",
    "\n",
    "# Yahoo Finance API data\n",
    "import yfinance as yf\n"
   ]
  },
  {
   "cell_type": "markdown",
   "id": "b875778f",
   "metadata": {},
   "source": [
    "-----"
   ]
  },
  {
   "cell_type": "markdown",
   "id": "1d01a51a",
   "metadata": {},
   "source": [
    "## There are four problems in this assignment structured throughout this Jupyter Notebook as follows:\n",
    "### - Name the Problem\n",
    "### - Describe the Problem\n",
    "### - Solve the Problem\n",
    "----------"
   ]
  },
  {
   "cell_type": "markdown",
   "id": "923ec540",
   "metadata": {},
   "source": [
    "## Problem 1: Data from yfinance"
   ]
  },
  {
   "cell_type": "markdown",
   "id": "080d98d1",
   "metadata": {},
   "source": [
    "##### Using the yfinance Python package, write a function called get_data() that downloads all hourly data for the previous five days for the five FAANG stocks:\n",
    "\n",
    "- Facebook (META)\n",
    "- Apple (AAPL)\n",
    "- Amazon (AMZN)\n",
    "- Netflix (NFLX)\n",
    "- Google (GOOG)\n",
    "##### The function should save the data into a folder called data in the root of your repository using a filename with the format YYYYMMDD-HHmmss.csv where YYYYMMDD is the four-digit year (e.g. 2025), followed by the two-digit month (e.g. 09 for September), followed by the two digit day, and HHmmss is hour, minutes, seconds. Create the data folder if you don't already have one."
   ]
  },
  {
   "cell_type": "markdown",
   "id": "f8a1c1c2",
   "metadata": {},
   "source": [
    "# yfinance documentation\n",
    "https://ranaroussi.github.io/yfinance/reference/api/yfinance.download.html"
   ]
  },
  {
   "cell_type": "code",
   "execution_count": 2,
   "id": "6ba155fa",
   "metadata": {},
   "outputs": [
    {
     "data": {
      "text/plain": [
       "{'address1': 'One Microsoft Way',\n",
       " 'city': 'Redmond',\n",
       " 'state': 'WA',\n",
       " 'zip': '98052-6399',\n",
       " 'country': 'United States',\n",
       " 'phone': '425 882 8080',\n",
       " 'website': 'https://www.microsoft.com',\n",
       " 'industry': 'Software - Infrastructure',\n",
       " 'industryKey': 'software-infrastructure',\n",
       " 'industryDisp': 'Software - Infrastructure',\n",
       " 'sector': 'Technology',\n",
       " 'sectorKey': 'technology',\n",
       " 'sectorDisp': 'Technology',\n",
       " 'longBusinessSummary': \"Microsoft Corporation develops and supports software, services, devices, and solutions worldwide. The company's Productivity and Business Processes segment offers Microsoft 365 Commercial, Enterprise Mobility + Security, Windows Commercial, Power BI, Exchange, SharePoint, Microsoft Teams, Security and Compliance, and Copilot; Microsoft 365 Commercial products, such as Windows Commercial on-premises and Office licensed services; Microsoft 365 Consumer products and cloud services, such as Microsoft 365 Consumer subscriptions, Office licensed on-premises, and other consumer services; LinkedIn; Dynamics products and cloud services, such as Dynamics 365, cloud-based applications, and on-premises ERP and CRM applications. Its Intelligent Cloud segment provides Server products and cloud services, such as Azure and other cloud services, GitHub, Nuance Healthcare, virtual desktop offerings, and other cloud services; Server products, including SQL and Windows Server, Visual Studio and System Center related Client Access Licenses, and other on-premises offerings; Enterprise and partner services, including Enterprise Support and Nuance professional Services, Industry Solutions, Microsoft Partner Network, and Learning Experience. The company's Personal Computing segment provides Windows and Devices, such as Windows OEM licensing and Devices and Surface and PC accessories; Gaming services and solutions, such as Xbox hardware, content, and services, first- and third-party content Xbox Game Pass, subscriptions, and Cloud Gaming, advertising, and other cloud services; search and news advertising services, such as Bing and Copilot, Microsoft News and Edge, and third-party affiliates. It sells its products through OEMs, distributors, and resellers; and online and retail stores. The company was founded in 1975 and is headquartered in Redmond, Washington.\",\n",
       " 'fullTimeEmployees': 228000,\n",
       " 'companyOfficers': [{'maxAge': 1,\n",
       "   'name': 'Mr. Satya  Nadella',\n",
       "   'age': 57,\n",
       "   'title': 'Chairman & CEO',\n",
       "   'yearBorn': 1967,\n",
       "   'fiscalYear': 2024,\n",
       "   'totalPay': 7869791,\n",
       "   'exercisedValue': 0,\n",
       "   'unexercisedValue': 0},\n",
       "  {'maxAge': 1,\n",
       "   'name': 'Mr. Bradford L. Smith LCA',\n",
       "   'age': 65,\n",
       "   'title': 'President & Vice Chairman',\n",
       "   'yearBorn': 1959,\n",
       "   'fiscalYear': 2024,\n",
       "   'totalPay': 4755618,\n",
       "   'exercisedValue': 0,\n",
       "   'unexercisedValue': 0},\n",
       "  {'maxAge': 1,\n",
       "   'name': 'Ms. Amy E. Hood',\n",
       "   'age': 52,\n",
       "   'title': 'Executive VP & CFO',\n",
       "   'yearBorn': 1972,\n",
       "   'fiscalYear': 2024,\n",
       "   'totalPay': 4704250,\n",
       "   'exercisedValue': 0,\n",
       "   'unexercisedValue': 0},\n",
       "  {'maxAge': 1,\n",
       "   'name': 'Mr. Judson B. Althoff',\n",
       "   'age': 51,\n",
       "   'title': 'Executive VP & CEO of Commercial Business',\n",
       "   'yearBorn': 1973,\n",
       "   'fiscalYear': 2024,\n",
       "   'totalPay': 4534974,\n",
       "   'exercisedValue': 0,\n",
       "   'unexercisedValue': 0},\n",
       "  {'maxAge': 1,\n",
       "   'name': 'Ms. Carolina  Dybeck Happe',\n",
       "   'age': 52,\n",
       "   'title': 'Executive VP & COO',\n",
       "   'yearBorn': 1972,\n",
       "   'fiscalYear': 2024,\n",
       "   'exercisedValue': 0,\n",
       "   'unexercisedValue': 0},\n",
       "  {'maxAge': 1,\n",
       "   'name': 'Ms. Alice L. Jolla',\n",
       "   'age': 58,\n",
       "   'title': 'Corporate VP & Chief Accounting Officer',\n",
       "   'yearBorn': 1966,\n",
       "   'fiscalYear': 2024,\n",
       "   'exercisedValue': 0,\n",
       "   'unexercisedValue': 0},\n",
       "  {'maxAge': 1,\n",
       "   'name': 'Jonathan  Neilson',\n",
       "   'title': 'Vice President of Investor Relations',\n",
       "   'fiscalYear': 2024,\n",
       "   'exercisedValue': 0,\n",
       "   'unexercisedValue': 0},\n",
       "  {'maxAge': 1,\n",
       "   'name': 'Mr. Jonathan M. Palmer',\n",
       "   'title': 'Corporate Vice President & Chief Legal Officer',\n",
       "   'fiscalYear': 2024,\n",
       "   'exercisedValue': 0,\n",
       "   'unexercisedValue': 0},\n",
       "  {'maxAge': 1,\n",
       "   'name': 'Mr. Frank X. Shaw',\n",
       "   'title': 'Chief Communications Officer',\n",
       "   'fiscalYear': 2024,\n",
       "   'exercisedValue': 0,\n",
       "   'unexercisedValue': 0},\n",
       "  {'maxAge': 1,\n",
       "   'name': 'Mr. Takeshi  Numoto',\n",
       "   'age': 53,\n",
       "   'title': 'Executive VP & Chief Marketing Officer',\n",
       "   'yearBorn': 1971,\n",
       "   'fiscalYear': 2024,\n",
       "   'exercisedValue': 0,\n",
       "   'unexercisedValue': 0}],\n",
       " 'auditRisk': 9,\n",
       " 'boardRisk': 5,\n",
       " 'compensationRisk': 4,\n",
       " 'shareHolderRightsRisk': 2,\n",
       " 'overallRisk': 3,\n",
       " 'governanceEpochDate': 1759276800,\n",
       " 'compensationAsOfEpochDate': 1735603200,\n",
       " 'irWebsite': 'http://www.microsoft.com/investor/default.aspx',\n",
       " 'executiveTeam': [],\n",
       " 'maxAge': 86400,\n",
       " 'priceHint': 2,\n",
       " 'previousClose': 516.79,\n",
       " 'open': 517.76,\n",
       " 'dayLow': 513.04,\n",
       " 'dayHigh': 518.69,\n",
       " 'regularMarketPreviousClose': 516.79,\n",
       " 'regularMarketOpen': 517.76,\n",
       " 'regularMarketDayLow': 513.04,\n",
       " 'regularMarketDayHigh': 518.69,\n",
       " 'dividendRate': 3.64,\n",
       " 'dividendYield': 0.7,\n",
       " 'exDividendDate': 1763596800,\n",
       " 'payoutRatio': 0.2375,\n",
       " 'fiveYearAvgDividendYield': 0.81,\n",
       " 'beta': 1.023,\n",
       " 'trailingPE': 37.95161,\n",
       " 'forwardPE': 34.626087,\n",
       " 'volume': 15439703,\n",
       " 'regularMarketVolume': 15439703,\n",
       " 'averageVolume': 20277276,\n",
       " 'averageVolume10days': 16420280,\n",
       " 'averageDailyVolume10Day': 16420280,\n",
       " 'bid': 491.29,\n",
       " 'ask': 543.61,\n",
       " 'bidSize': 1,\n",
       " 'askSize': 1,\n",
       " 'marketCap': 3847852654592,\n",
       " 'fiftyTwoWeekLow': 344.79,\n",
       " 'fiftyTwoWeekHigh': 555.45,\n",
       " 'allTimeHigh': 555.45,\n",
       " 'allTimeLow': 0.088542,\n",
       " 'priceToSalesTrailing12Months': 13.658236,\n",
       " 'fiftyDayAverage': 512.0252,\n",
       " 'twoHundredDayAverage': 456.4109,\n",
       " 'trailingAnnualDividendRate': 3.32,\n",
       " 'trailingAnnualDividendYield': 0.006424273,\n",
       " 'currency': 'USD',\n",
       " 'tradeable': False,\n",
       " 'enterpriseValue': 3865471877120,\n",
       " 'profitMargins': 0.36146,\n",
       " 'floatShares': 7422165293,\n",
       " 'sharesOutstanding': 7433166379,\n",
       " 'sharesShort': 54926474,\n",
       " 'sharesShortPriorMonth': 58491994,\n",
       " 'sharesShortPreviousMonthDate': 1756425600,\n",
       " 'dateShortInterest': 1759190400,\n",
       " 'sharesPercentSharesOut': 0.0074,\n",
       " 'heldPercentInsiders': 0.00068000006,\n",
       " 'heldPercentInstitutions': 0.76139,\n",
       " 'shortRatio': 2.72,\n",
       " 'shortPercentOfFloat': 0.0074,\n",
       " 'impliedSharesOutstanding': 7433166379,\n",
       " 'bookValue': 46.204,\n",
       " 'priceToBook': 11.203792,\n",
       " 'lastFiscalYearEnd': 1751241600,\n",
       " 'nextFiscalYearEnd': 1782777600,\n",
       " 'mostRecentQuarter': 1751241600,\n",
       " 'earningsQuarterlyGrowth': 0.236,\n",
       " 'netIncomeToCommon': 101831999488,\n",
       " 'trailingEps': 13.64,\n",
       " 'forwardEps': 14.95,\n",
       " 'lastSplitFactor': '2:1',\n",
       " 'lastSplitDate': 1045526400,\n",
       " 'enterpriseToRevenue': 13.721,\n",
       " 'enterpriseToEbitda': 24.695,\n",
       " '52WeekChange': 0.20883727,\n",
       " 'SandP52WeekChange': 0.15106821,\n",
       " 'lastDividendValue': 0.83,\n",
       " 'lastDividendDate': 1755734400,\n",
       " 'quoteType': 'EQUITY',\n",
       " 'currentPrice': 517.66,\n",
       " 'targetHighPrice': 710.0,\n",
       " 'targetLowPrice': 483.0,\n",
       " 'targetMeanPrice': 621.031,\n",
       " 'targetMedianPrice': 630.0,\n",
       " 'recommendationMean': 1.25862,\n",
       " 'recommendationKey': 'strong_buy',\n",
       " 'numberOfAnalystOpinions': 51,\n",
       " 'totalCash': 94564999168,\n",
       " 'totalCashPerShare': 12.722,\n",
       " 'ebitda': 156528001024,\n",
       " 'totalDebt': 112184000512,\n",
       " 'quickRatio': 1.223,\n",
       " 'currentRatio': 1.353,\n",
       " 'totalRevenue': 281723994112,\n",
       " 'debtToEquity': 32.661,\n",
       " 'revenuePerShare': 37.902,\n",
       " 'returnOnAssets': 0.14203,\n",
       " 'returnOnEquity': 0.33280998,\n",
       " 'grossProfits': 193893007360,\n",
       " 'freeCashflow': 61070376960,\n",
       " 'operatingCashflow': 136162000896,\n",
       " 'earningsGrowth': 0.237,\n",
       " 'revenueGrowth': 0.181,\n",
       " 'grossMargins': 0.68824,\n",
       " 'ebitdaMargins': 0.55561,\n",
       " 'operatingMargins': 0.44901,\n",
       " 'financialCurrency': 'USD',\n",
       " 'symbol': 'MSFT',\n",
       " 'language': 'en-US',\n",
       " 'region': 'US',\n",
       " 'typeDisp': 'Equity',\n",
       " 'quoteSourceName': 'Nasdaq Real Time Price',\n",
       " 'triggerable': True,\n",
       " 'customPriceAlertConfidence': 'HIGH',\n",
       " 'shortName': 'Microsoft Corporation',\n",
       " 'longName': 'Microsoft Corporation',\n",
       " 'corporateActions': [{'header': 'Dividend',\n",
       "   'message': 'MSFT announced a cash dividend of 0.91 with an ex-date of Nov. 20, 2025',\n",
       "   'meta': {'eventType': 'DIVIDEND',\n",
       "    'dateEpochMs': 1763611200000,\n",
       "    'amount': '0.91'}}],\n",
       " 'postMarketTime': 1761086029,\n",
       " 'earningsTimestampEnd': 1761768000,\n",
       " 'earningsCallTimestampStart': 1761773400,\n",
       " 'earningsCallTimestampEnd': 1761773400,\n",
       " 'isEarningsDateEstimate': False,\n",
       " 'epsTrailingTwelveMonths': 13.64,\n",
       " 'epsForward': 14.95,\n",
       " 'epsCurrentYear': 15.5019,\n",
       " 'priceEpsCurrentYear': 33.393326,\n",
       " 'fiftyDayAverageChange': 5.6347656,\n",
       " 'fiftyDayAverageChangePercent': 0.01100486,\n",
       " 'twoHundredDayAverageChange': 61.249084,\n",
       " 'twoHundredDayAverageChangePercent': 0.13419725,\n",
       " 'sourceInterval': 15,\n",
       " 'exchangeDataDelayedBy': 0,\n",
       " 'averageAnalystRating': '1.3 - Strong Buy',\n",
       " 'cryptoTradeable': False,\n",
       " 'hasPrePostMarketData': True,\n",
       " 'firstTradeDateMilliseconds': 511108200000,\n",
       " 'postMarketChangePercent': -0.15163876,\n",
       " 'marketState': 'POST',\n",
       " 'regularMarketTime': 1761076802,\n",
       " 'exchange': 'NMS',\n",
       " 'messageBoardId': 'finmb_21835',\n",
       " 'exchangeTimezoneName': 'America/New_York',\n",
       " 'exchangeTimezoneShortName': 'EDT',\n",
       " 'gmtOffSetMilliseconds': -14400000,\n",
       " 'market': 'us_market',\n",
       " 'esgPopulated': False,\n",
       " 'regularMarketChangePercent': 0.16834597,\n",
       " 'regularMarketPrice': 517.66,\n",
       " 'postMarketPrice': 516.875,\n",
       " 'postMarketChange': -0.78497314,\n",
       " 'regularMarketChange': 0.8699951,\n",
       " 'regularMarketDayRange': '513.04 - 518.69',\n",
       " 'fullExchangeName': 'NasdaqGS',\n",
       " 'averageDailyVolume3Month': 20277276,\n",
       " 'fiftyTwoWeekLowChange': 172.86996,\n",
       " 'fiftyTwoWeekLowChangePercent': 0.5013775,\n",
       " 'fiftyTwoWeekRange': '344.79 - 555.45',\n",
       " 'fiftyTwoWeekHighChange': -37.79004,\n",
       " 'fiftyTwoWeekHighChangePercent': -0.068035,\n",
       " 'fiftyTwoWeekChangePercent': 20.883728,\n",
       " 'dividendDate': 1765411200,\n",
       " 'earningsTimestamp': 1761768000,\n",
       " 'earningsTimestampStart': 1761768000,\n",
       " 'displayName': 'Microsoft',\n",
       " 'trailingPegRatio': 2.2593}"
      ]
     },
     "execution_count": 2,
     "metadata": {},
     "output_type": "execute_result"
    }
   ],
   "source": [
    "# yfinance test\n",
    "data = yf.Ticker(\"MSFT\")\n",
    "data.info"
   ]
  },
  {
   "cell_type": "code",
   "execution_count": 3,
   "id": "8aa2a7c6",
   "metadata": {},
   "outputs": [],
   "source": [
    "tickers = yf.Tickers('MSFT AAPL GOOG')"
   ]
  },
  {
   "cell_type": "code",
   "execution_count": 4,
   "id": "7dd361b9",
   "metadata": {},
   "outputs": [
    {
     "name": "stderr",
     "output_type": "stream",
     "text": [
      "/tmp/ipykernel_26330/3551456523.py:1: FutureWarning: YF.download() has changed argument auto_adjust default to True\n",
      "  df = yf.download ('META AAPL AMZN NFLX GOOG', period = '5d', interval = '60m')\n",
      "[*********************100%***********************]  5 of 5 completed\n"
     ]
    }
   ],
   "source": [
    "df = yf.download ('META AAPL AMZN NFLX GOOG', period = '5d', interval = '60m')"
   ]
  },
  {
   "cell_type": "code",
   "execution_count": 5,
   "id": "11a884b6",
   "metadata": {},
   "outputs": [
    {
     "data": {
      "text/plain": [
       "DatetimeIndex(['2025-10-15 13:30:00+00:00', '2025-10-15 14:30:00+00:00',\n",
       "               '2025-10-15 15:30:00+00:00', '2025-10-15 16:30:00+00:00',\n",
       "               '2025-10-15 17:30:00+00:00', '2025-10-15 18:30:00+00:00',\n",
       "               '2025-10-15 19:30:00+00:00', '2025-10-16 13:30:00+00:00',\n",
       "               '2025-10-16 14:30:00+00:00', '2025-10-16 15:30:00+00:00',\n",
       "               '2025-10-16 16:30:00+00:00', '2025-10-16 17:30:00+00:00',\n",
       "               '2025-10-16 18:30:00+00:00', '2025-10-16 19:30:00+00:00',\n",
       "               '2025-10-17 13:30:00+00:00', '2025-10-17 14:30:00+00:00',\n",
       "               '2025-10-17 15:30:00+00:00', '2025-10-17 16:30:00+00:00',\n",
       "               '2025-10-17 17:30:00+00:00', '2025-10-17 18:30:00+00:00',\n",
       "               '2025-10-17 19:30:00+00:00', '2025-10-20 13:30:00+00:00',\n",
       "               '2025-10-20 14:30:00+00:00', '2025-10-20 15:30:00+00:00',\n",
       "               '2025-10-20 16:30:00+00:00', '2025-10-20 17:30:00+00:00',\n",
       "               '2025-10-20 18:30:00+00:00', '2025-10-20 19:30:00+00:00',\n",
       "               '2025-10-21 13:30:00+00:00', '2025-10-21 14:30:00+00:00',\n",
       "               '2025-10-21 15:30:00+00:00', '2025-10-21 16:30:00+00:00',\n",
       "               '2025-10-21 17:30:00+00:00', '2025-10-21 18:30:00+00:00',\n",
       "               '2025-10-21 19:30:00+00:00'],\n",
       "              dtype='datetime64[ns, UTC]', name='Datetime', freq=None)"
      ]
     },
     "execution_count": 5,
     "metadata": {},
     "output_type": "execute_result"
    }
   ],
   "source": [
    "df.index"
   ]
  },
  {
   "cell_type": "code",
   "execution_count": 6,
   "id": "2e1992f2",
   "metadata": {},
   "outputs": [],
   "source": [
    "today = dt.datetime.today()"
   ]
  },
  {
   "cell_type": "code",
   "execution_count": 9,
   "id": "99d3906b",
   "metadata": {},
   "outputs": [
    {
     "data": {
      "text/plain": [
       "'data/faang_data21.10.2025_22.33.56.csv'"
      ]
     },
     "execution_count": 9,
     "metadata": {},
     "output_type": "execute_result"
    }
   ],
   "source": [
    "#file name with today's dat\n",
    "\"data/\" + \"faang_data\" + today.strftime(\"%d.%m.%Y_%H.%M.%S\") + \".csv\""
   ]
  },
  {
   "cell_type": "code",
   "execution_count": 11,
   "id": "2a17116c",
   "metadata": {},
   "outputs": [],
   "source": [
    "# https://pandas.pydata.org/pandas-docs/stable/reference/api/pandas.DataFrame.to_csv.html\n",
    "df.to_csv(\"data/\" + \"faangdata_\" + today.strftime(\"%d.%m.%Y_%H.%M.%S\") + \".csv\")"
   ]
  },
  {
   "cell_type": "markdown",
   "id": "d531fd87",
   "metadata": {},
   "source": [
    "-----\n",
    "## Problem 2: Plotting the data\n",
    "\n",
    "##### Write a function called plot_data() that opens the latest data file in the data folder and, on one plot, plots the Close prices for each of the five stocks. The plot should include axis labels, a legend, and the date as a title. The function should save the plot into a plots folder in the root of your repository using a filename in the format YYYYMMDD-HHmmss.png. Create the plots folder if you don't already have one."
   ]
  },
  {
   "cell_type": "markdown",
   "id": "dd9baaca",
   "metadata": {},
   "source": []
  },
  {
   "cell_type": "markdown",
   "id": "6f3ff664",
   "metadata": {},
   "source": [
    "-----\n",
    "## Problem 3: Script\n",
    "##### Create a Python script called faang.py in the root of your repository. Copy the above functions into it and it so that whenever someone at the terminal types ./faang.py, the script runs, downloading the data and creating the plot. Note that this will require a shebang line and the script to be marked executable. Explain the steps you took in your notebook."
   ]
  },
  {
   "cell_type": "markdown",
   "id": "b34a549c",
   "metadata": {},
   "source": [
    "-----\n",
    "## Problem 4: Automation\n",
    "##### Create a GitHub Actions workflow to run your script every Saturday morning. The script should be called faang.yml in a .github/workflows/ folder in the root of your repository. In your notebook, explain each of the individual lines in your workflow."
   ]
  },
  {
   "cell_type": "markdown",
   "id": "46509cd2",
   "metadata": {},
   "source": [
    "-----\n",
    "# END\n",
    "-----"
   ]
  }
 ],
 "metadata": {
  "kernelspec": {
   "display_name": "Python 3",
   "language": "python",
   "name": "python3"
  },
  "language_info": {
   "codemirror_mode": {
    "name": "ipython",
    "version": 3
   },
   "file_extension": ".py",
   "mimetype": "text/x-python",
   "name": "python",
   "nbconvert_exporter": "python",
   "pygments_lexer": "ipython3",
   "version": "3.12.1"
  }
 },
 "nbformat": 4,
 "nbformat_minor": 5
}
